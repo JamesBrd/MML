{
 "cells": [
  {
   "cell_type": "code",
   "execution_count": 1,
   "metadata": {
    "collapsed": false
   },
   "outputs": [],
   "source": [
    "import pandas as pd\n",
    "data_path = \"../duke-with-ELO.csv\"\n",
    "dataframe = pd.read_csv(data_path, header=0, index_col = 0)"
   ]
  },
  {
   "cell_type": "code",
   "execution_count": 2,
   "metadata": {
    "collapsed": false,
    "scrolled": true
   },
   "outputs": [
    {
     "name": "stderr",
     "output_type": "stream",
     "text": [
      "Using TensorFlow backend.\n"
     ]
    }
   ],
   "source": [
    "from math import sqrt\n",
    "from numpy import concatenate\n",
    "from matplotlib import pyplot\n",
    "from pandas import read_csv\n",
    "from pandas import DataFrame\n",
    "from pandas import concat\n",
    "from sklearn.preprocessing import MinMaxScaler\n",
    "from sklearn.preprocessing import LabelEncoder\n",
    "from sklearn.metrics import mean_squared_error\n",
    "from keras.models import Sequential\n",
    "from keras.layers import Dense\n",
    "from keras.layers import LSTM\n",
    "%matplotlib inline"
   ]
  },
  {
   "cell_type": "raw",
   "metadata": {
    "collapsed": true
   },
   "source": [
    "#dataframe['Wloc'].replace(to_replace=['H', 'A', 'N'], value=['0', '1', '2'], inplace=True)"
   ]
  },
  {
   "cell_type": "raw",
   "metadata": {
    "collapsed": false,
    "scrolled": true
   },
   "source": [
    "from collections import Counter\n",
    "t1_count = Counter(dict(dataframe['team1'].value_counts()))\n",
    "t1_count"
   ]
  },
  {
   "cell_type": "raw",
   "metadata": {
    "collapsed": false,
    "scrolled": true
   },
   "source": [
    "t2_count = Counter(dict(dataframe['team2'].value_counts()))\n",
    "t2_count"
   ]
  },
  {
   "cell_type": "raw",
   "metadata": {
    "collapsed": false,
    "scrolled": true
   },
   "source": [
    "print(t1_count + t2_count)"
   ]
  },
  {
   "cell_type": "raw",
   "metadata": {
    "collapsed": false,
    "scrolled": true
   },
   "source": [
    "d1 = dataframe.loc[dataframe['team1'] == 1181]\n",
    "#d2 = dataframe.loc[dataframe['team2'] == 1181]\n",
    "d1"
   ]
  },
  {
   "cell_type": "raw",
   "metadata": {
    "collapsed": false,
    "scrolled": true
   },
   "source": [
    "d2 = dataframe.loc[dataframe['team2'] == 1181]\n",
    "#d2"
   ]
  },
  {
   "cell_type": "raw",
   "metadata": {
    "collapsed": false,
    "scrolled": true
   },
   "source": [
    "#dataset = dataframe.loc[dataframe['team2'] == 1458]\n",
    "dataset = pd.concat([d1, d2])\n",
    "dataset.reset_index(inplace=True)\n",
    "#dataset.sort_values(by = ['Daynum'], ascending=True)\n",
    "dataset.sort_values(by = ['Season', 'Daynum'], inplace=True)\n",
    "dataset"
   ]
  },
  {
   "cell_type": "raw",
   "metadata": {
    "collapsed": false,
    "scrolled": true
   },
   "source": [
    "#dataset.reset_index(inplace=True)"
   ]
  },
  {
   "cell_type": "raw",
   "metadata": {
    "collapsed": false,
    "scrolled": true
   },
   "source": [
    "#dataset.sort_values(by = ['Season', 'Daynum'], inplace=True)\n",
    "#dataset.sort_values(by = ['Season'])\n",
    "#dataset"
   ]
  },
  {
   "cell_type": "code",
   "execution_count": 3,
   "metadata": {
    "collapsed": false
   },
   "outputs": [
    {
     "data": {
      "text/plain": [
       "(500, 22)"
      ]
     },
     "execution_count": 3,
     "metadata": {},
     "output_type": "execute_result"
    }
   ],
   "source": [
    "dataframe.shape"
   ]
  },
  {
   "cell_type": "code",
   "execution_count": 4,
   "metadata": {
    "collapsed": true
   },
   "outputs": [],
   "source": [
    "# convert series to supervised learning\n",
    "def series_to_supervised(data, n_in=1, n_out=1, dropnan=True):\n",
    "    # data: Sequence of observations as a list or 2D NumPy array. Required.\n",
    "    # n_in: Number of lag observations as input (X). Values may be between [1..len(data)] Optional. Defaults to 1.\n",
    "    #### window time series analysis: set n_in as 2, 3, ...\n",
    "    # n_out: Number of observations as output (y). Values may be between [0..len(data)-1]. Optional. Defaults to 1.\n",
    "    #### using past observations to forecast a sequence of future observations: multi-step, set n_in & n_out as 2, 3, ...\n",
    "    # dropnan: Boolean whether or not to drop rows with NaN values. Optional. Defaults to True.\n",
    "    #### Multi-variate forecasting: call this function on a dataframe as data\n",
    "    n_vars = 1 if type(data) is list else data.shape[1]\n",
    "    df = DataFrame(data) \n",
    "    cols, names = list(), list()\n",
    "    # input sequence (t-n, ... t-1)\n",
    "    #### Given a DataFrame, the shift() function can be used to create copies of columns \n",
    "    #### that are pushed forward (rows of NaN values added to the front) or pulled back \n",
    "    #### (rows of NaN values added to the end).\n",
    "    for i in range(n_in, 0, -1):\n",
    "        cols.append(df.shift(i))\n",
    "        names += [('var%d(t-%d)' % (j+1, i)) for j in range(n_vars)]\n",
    "    # forecast sequence (t, t+1, ... t+n)\n",
    "    for i in range(0, n_out):\n",
    "        cols.append(df.shift(-i))\n",
    "        if i == 0:\n",
    "            names += [('var%d(t)' % (j+1)) for j in range(n_vars)]\n",
    "        else:\n",
    "            names += [('var%d(t+%d)' % (j+1, i)) for j in range(n_vars)]\n",
    "    # put it all together\n",
    "    agg = concat(cols, axis=1)\n",
    "    agg.columns = names\n",
    "    # drop rows with NaN values\n",
    "    if dropnan:\n",
    "        agg.dropna(inplace=True)\n",
    "    # return: Pandas DataFrame of series framed for supervised learning.\n",
    "    return agg"
   ]
  },
  {
   "cell_type": "code",
   "execution_count": 5,
   "metadata": {
    "collapsed": false
   },
   "outputs": [
    {
     "name": "stdout",
     "output_type": "stream",
     "text": [
      "   var1(t-1)  var2(t-1)  var3(t-1)  var4(t-1)  var5(t-1)  var6(t-1)  \\\n",
      "1        0.0   0.100000   0.215190   0.000000        0.0        0.0   \n",
      "2        0.0   0.113333   0.886076   0.000000        0.0        0.0   \n",
      "3        0.0   0.146667   1.000000   0.836880        1.0        0.0   \n",
      "4        0.0   0.166667   1.000000   0.514184        1.0        0.0   \n",
      "5        0.0   0.193333   1.000000   0.336880        0.0        0.0   \n",
      "\n",
      "   var7(t-1)  var8(t-1)  var9(t-1)  var17(t-1)    ...     var13(t)  var14(t)  \\\n",
      "1   0.000000   0.348107   0.622869    0.762558    ...     0.761095  0.809629   \n",
      "2   0.000000   0.348107   0.622869    0.762558    ...     0.761095  0.809629   \n",
      "3   0.000000   0.348107   0.622869    0.762558    ...     0.761095  0.809629   \n",
      "4   0.000000   0.348107   0.622869    0.762558    ...     0.770028  0.782116   \n",
      "5   0.557143   0.510897   0.598957    0.637837    ...     0.875566  0.862848   \n",
      "\n",
      "   var15(t)  var16(t)  var17(t)  var18(t)  var19(t)  var20(t)  var21(t)  \\\n",
      "1  0.395529  0.514439  0.762558  0.873929  0.775913  0.798702  0.017258   \n",
      "2  0.395529  0.514439  0.762558  0.873929  0.775913  0.798702  0.034020   \n",
      "3  0.395529  0.514439  0.762558  0.873929  0.775913  0.798702  0.049820   \n",
      "4  0.637931  0.702364  0.637837  0.900857  0.784798  0.836754  0.065647   \n",
      "5  0.656677  0.903372  0.442051  0.939422  0.949757  0.579042  0.078753   \n",
      "\n",
      "   var22(t)  \n",
      "1       0.0  \n",
      "2       1.0  \n",
      "3       1.0  \n",
      "4       1.0  \n",
      "5       1.0  \n",
      "\n",
      "[5 rows x 37 columns]\n"
     ]
    }
   ],
   "source": [
    "values = dataframe.values\n",
    "# encode wind_dir as integer\n",
    "encoder = LabelEncoder()\n",
    "values[:,6] = encoder.fit_transform(values[:,6])\n",
    "# coerce all data into float\n",
    "values = values.astype('float32')\n",
    "# normalize features\n",
    "scaler = MinMaxScaler(feature_range=(0, 1))\n",
    "scaled = scaler.fit_transform(values)\n",
    "# frame as supervised learning\n",
    "reframed = series_to_supervised(scaled, 1, 1)\n",
    "# drop columns we don't want to predict\n",
    "reframed.drop(reframed.columns[[9,10,11,12,13,14,15]], axis=1, inplace=True)\n",
    "print(reframed.head())"
   ]
  },
  {
   "cell_type": "code",
   "execution_count": 6,
   "metadata": {
    "collapsed": false
   },
   "outputs": [
    {
     "name": "stdout",
     "output_type": "stream",
     "text": [
      "(450, 1, 36) (450,) (49, 1, 36) (49,)\n"
     ]
    }
   ],
   "source": [
    "# split into train and test sets\n",
    "values = reframed.values\n",
    "n_train_hours = 450\n",
    "train = values[:n_train_hours, :]\n",
    "test = values[n_train_hours:, :]\n",
    "# split into input and outputs\n",
    "train_X, train_y = train[:, :-1], train[:, -1]\n",
    "test_X, test_y = test[:, :-1], test[:, -1]\n",
    "# reshape input to be 3D [samples, timesteps, features]\n",
    "train_X = train_X.reshape((train_X.shape[0], 1, train_X.shape[1]))\n",
    "test_X = test_X.reshape((test_X.shape[0], 1, test_X.shape[1]))\n",
    "print(train_X.shape, train_y.shape, test_X.shape, test_y.shape)"
   ]
  },
  {
   "cell_type": "code",
   "execution_count": 7,
   "metadata": {
    "collapsed": true
   },
   "outputs": [],
   "source": [
    "from keras.models import Sequential\n",
    "from keras.layers import Dense, Activation, Dropout\n",
    "from keras.layers import LSTM\n",
    "from matplotlib import pyplot as plt"
   ]
  },
  {
   "cell_type": "code",
   "execution_count": 8,
   "metadata": {
    "collapsed": false,
    "scrolled": true
   },
   "outputs": [
    {
     "name": "stdout",
     "output_type": "stream",
     "text": [
      "Train on 450 samples, validate on 49 samples\n",
      "Epoch 1/100\n",
      "5s - loss: 0.6401 - acc: 0.6644 - val_loss: 0.6052 - val_acc: 0.6939\n",
      "Epoch 2/100\n",
      "3s - loss: 0.6168 - acc: 0.6667 - val_loss: 0.5841 - val_acc: 0.6939\n",
      "Epoch 3/100\n",
      "3s - loss: 0.5534 - acc: 0.6978 - val_loss: 0.5479 - val_acc: 0.6939\n",
      "Epoch 4/100\n",
      "4s - loss: 0.5284 - acc: 0.7311 - val_loss: 0.5210 - val_acc: 0.7347\n",
      "Epoch 5/100\n",
      "4s - loss: 0.4894 - acc: 0.7378 - val_loss: 0.5169 - val_acc: 0.7755\n",
      "Epoch 6/100\n",
      "4s - loss: 0.5033 - acc: 0.7556 - val_loss: 0.5017 - val_acc: 0.7755\n",
      "Epoch 7/100\n",
      "4s - loss: 0.4586 - acc: 0.7800 - val_loss: 0.4746 - val_acc: 0.8163\n",
      "Epoch 8/100\n",
      "4s - loss: 0.4631 - acc: 0.7933 - val_loss: 0.4659 - val_acc: 0.8163\n",
      "Epoch 9/100\n",
      "4s - loss: 0.4618 - acc: 0.7778 - val_loss: 0.4577 - val_acc: 0.8163\n",
      "Epoch 10/100\n",
      "4s - loss: 0.4595 - acc: 0.7756 - val_loss: 0.4438 - val_acc: 0.8163\n",
      "Epoch 11/100\n",
      "4s - loss: 0.4553 - acc: 0.7956 - val_loss: 0.4291 - val_acc: 0.8571\n",
      "Epoch 12/100\n",
      "4s - loss: 0.4360 - acc: 0.8000 - val_loss: 0.4159 - val_acc: 0.8571\n",
      "Epoch 13/100\n",
      "4s - loss: 0.4364 - acc: 0.7844 - val_loss: 0.4122 - val_acc: 0.8571\n",
      "Epoch 14/100\n",
      "4s - loss: 0.4225 - acc: 0.8133 - val_loss: 0.3954 - val_acc: 0.8571\n",
      "Epoch 15/100\n",
      "4s - loss: 0.4310 - acc: 0.8000 - val_loss: 0.3955 - val_acc: 0.8571\n",
      "Epoch 16/100\n",
      "4s - loss: 0.4250 - acc: 0.8111 - val_loss: 0.3964 - val_acc: 0.8571\n",
      "Epoch 17/100\n",
      "4s - loss: 0.4142 - acc: 0.8156 - val_loss: 0.3916 - val_acc: 0.8163\n",
      "Epoch 18/100\n",
      "4s - loss: 0.4052 - acc: 0.8200 - val_loss: 0.3882 - val_acc: 0.8367\n",
      "Epoch 19/100\n",
      "4s - loss: 0.4103 - acc: 0.8022 - val_loss: 0.3851 - val_acc: 0.8367\n",
      "Epoch 20/100\n",
      "4s - loss: 0.3820 - acc: 0.8244 - val_loss: 0.3821 - val_acc: 0.8776\n",
      "Epoch 21/100\n",
      "4s - loss: 0.4072 - acc: 0.8089 - val_loss: 0.3842 - val_acc: 0.8367\n",
      "Epoch 22/100\n",
      "4s - loss: 0.3811 - acc: 0.8178 - val_loss: 0.3839 - val_acc: 0.8163\n",
      "Epoch 23/100\n",
      "4s - loss: 0.3861 - acc: 0.8311 - val_loss: 0.3907 - val_acc: 0.7959\n",
      "Epoch 24/100\n",
      "4s - loss: 0.3781 - acc: 0.8267 - val_loss: 0.3935 - val_acc: 0.7959\n",
      "Epoch 25/100\n",
      "4s - loss: 0.3737 - acc: 0.8356 - val_loss: 0.3934 - val_acc: 0.7959\n",
      "Epoch 26/100\n",
      "4s - loss: 0.3893 - acc: 0.8267 - val_loss: 0.3847 - val_acc: 0.7959\n",
      "Epoch 27/100\n",
      "4s - loss: 0.3984 - acc: 0.8289 - val_loss: 0.3732 - val_acc: 0.8571\n",
      "Epoch 28/100\n",
      "4s - loss: 0.3483 - acc: 0.8578 - val_loss: 0.3572 - val_acc: 0.8776\n",
      "Epoch 29/100\n",
      "4s - loss: 0.3838 - acc: 0.8222 - val_loss: 0.3572 - val_acc: 0.8776\n",
      "Epoch 30/100\n",
      "4s - loss: 0.3858 - acc: 0.8178 - val_loss: 0.3654 - val_acc: 0.8571\n",
      "Epoch 31/100\n",
      "4s - loss: 0.3499 - acc: 0.8511 - val_loss: 0.3736 - val_acc: 0.7959\n",
      "Epoch 32/100\n",
      "4s - loss: 0.3601 - acc: 0.8378 - val_loss: 0.3810 - val_acc: 0.7959\n",
      "Epoch 33/100\n",
      "4s - loss: 0.3627 - acc: 0.8400 - val_loss: 0.3677 - val_acc: 0.7959\n",
      "Epoch 34/100\n",
      "4s - loss: 0.3673 - acc: 0.8378 - val_loss: 0.3699 - val_acc: 0.8163\n",
      "Epoch 35/100\n",
      "4s - loss: 0.3500 - acc: 0.8422 - val_loss: 0.3586 - val_acc: 0.8163\n",
      "Epoch 36/100\n",
      "4s - loss: 0.3413 - acc: 0.8356 - val_loss: 0.3704 - val_acc: 0.7959\n",
      "Epoch 37/100\n",
      "5s - loss: 0.3482 - acc: 0.8600 - val_loss: 0.3870 - val_acc: 0.7755\n",
      "Epoch 38/100\n",
      "4s - loss: 0.3612 - acc: 0.8378 - val_loss: 0.3559 - val_acc: 0.8367\n",
      "Epoch 39/100\n",
      "4s - loss: 0.3577 - acc: 0.8556 - val_loss: 0.3585 - val_acc: 0.8367\n",
      "Epoch 40/100\n",
      "4s - loss: 0.3439 - acc: 0.8533 - val_loss: 0.3782 - val_acc: 0.7755\n",
      "Epoch 41/100\n",
      "4s - loss: 0.3515 - acc: 0.8533 - val_loss: 0.3677 - val_acc: 0.8367\n",
      "Epoch 42/100\n",
      "4s - loss: 0.3368 - acc: 0.8578 - val_loss: 0.3646 - val_acc: 0.8163\n",
      "Epoch 43/100\n",
      "4s - loss: 0.3289 - acc: 0.8667 - val_loss: 0.3801 - val_acc: 0.7755\n",
      "Epoch 44/100\n",
      "4s - loss: 0.3546 - acc: 0.8556 - val_loss: 0.3675 - val_acc: 0.8367\n",
      "Epoch 45/100\n",
      "4s - loss: 0.3391 - acc: 0.8711 - val_loss: 0.3654 - val_acc: 0.7959\n",
      "Epoch 46/100\n",
      "4s - loss: 0.3274 - acc: 0.8733 - val_loss: 0.3662 - val_acc: 0.7959\n",
      "Epoch 47/100\n",
      "4s - loss: 0.3224 - acc: 0.8511 - val_loss: 0.3901 - val_acc: 0.7551\n",
      "Epoch 48/100\n",
      "4s - loss: 0.3211 - acc: 0.8667 - val_loss: 0.3915 - val_acc: 0.7755\n",
      "Epoch 49/100\n",
      "4s - loss: 0.3349 - acc: 0.8622 - val_loss: 0.3893 - val_acc: 0.8163\n",
      "Epoch 50/100\n",
      "4s - loss: 0.3323 - acc: 0.8667 - val_loss: 0.3706 - val_acc: 0.7959\n",
      "Epoch 51/100\n",
      "4s - loss: 0.3156 - acc: 0.8756 - val_loss: 0.3871 - val_acc: 0.7959\n",
      "Epoch 52/100\n",
      "4s - loss: 0.3051 - acc: 0.8844 - val_loss: 0.3651 - val_acc: 0.8163\n",
      "Epoch 53/100\n",
      "4s - loss: 0.3255 - acc: 0.8689 - val_loss: 0.4055 - val_acc: 0.7755\n",
      "Epoch 54/100\n",
      "4s - loss: 0.3214 - acc: 0.8733 - val_loss: 0.3683 - val_acc: 0.8367\n",
      "Epoch 55/100\n",
      "4s - loss: 0.3180 - acc: 0.8644 - val_loss: 0.3879 - val_acc: 0.7755\n",
      "Epoch 56/100\n",
      "4s - loss: 0.3486 - acc: 0.8556 - val_loss: 0.3824 - val_acc: 0.7959\n",
      "Epoch 57/100\n",
      "4s - loss: 0.3106 - acc: 0.8822 - val_loss: 0.3789 - val_acc: 0.8163\n",
      "Epoch 58/100\n",
      "4s - loss: 0.3189 - acc: 0.8556 - val_loss: 0.3726 - val_acc: 0.8163\n",
      "Epoch 59/100\n",
      "4s - loss: 0.3299 - acc: 0.8600 - val_loss: 0.3687 - val_acc: 0.8571\n",
      "Epoch 60/100\n",
      "4s - loss: 0.3037 - acc: 0.8867 - val_loss: 0.3626 - val_acc: 0.8163\n",
      "Epoch 61/100\n",
      "4s - loss: 0.3092 - acc: 0.8778 - val_loss: 0.3851 - val_acc: 0.7959\n",
      "Epoch 62/100\n",
      "4s - loss: 0.3062 - acc: 0.8667 - val_loss: 0.4030 - val_acc: 0.7755\n",
      "Epoch 63/100\n",
      "4s - loss: 0.2871 - acc: 0.8844 - val_loss: 0.3879 - val_acc: 0.7959\n",
      "Epoch 64/100\n",
      "4s - loss: 0.2942 - acc: 0.8889 - val_loss: 0.3920 - val_acc: 0.8163\n",
      "Epoch 65/100\n",
      "4s - loss: 0.3153 - acc: 0.8667 - val_loss: 0.3814 - val_acc: 0.7959\n",
      "Epoch 66/100\n",
      "4s - loss: 0.2566 - acc: 0.8978 - val_loss: 0.3683 - val_acc: 0.8367\n",
      "Epoch 67/100\n",
      "4s - loss: 0.3237 - acc: 0.8711 - val_loss: 0.3917 - val_acc: 0.7959\n",
      "Epoch 68/100\n",
      "4s - loss: 0.2826 - acc: 0.8800 - val_loss: 0.3765 - val_acc: 0.7959\n",
      "Epoch 69/100\n",
      "4s - loss: 0.3116 - acc: 0.8800 - val_loss: 0.4199 - val_acc: 0.7755\n",
      "Epoch 70/100\n",
      "4s - loss: 0.2741 - acc: 0.8933 - val_loss: 0.4001 - val_acc: 0.7959\n",
      "Epoch 71/100\n",
      "4s - loss: 0.2930 - acc: 0.8778 - val_loss: 0.4120 - val_acc: 0.7755\n",
      "Epoch 72/100\n",
      "4s - loss: 0.2817 - acc: 0.8800 - val_loss: 0.4104 - val_acc: 0.7755\n",
      "Epoch 73/100\n",
      "4s - loss: 0.2938 - acc: 0.8756 - val_loss: 0.3829 - val_acc: 0.7959\n",
      "Epoch 74/100\n",
      "4s - loss: 0.2938 - acc: 0.8911 - val_loss: 0.4173 - val_acc: 0.7755\n",
      "Epoch 75/100\n",
      "4s - loss: 0.2437 - acc: 0.9022 - val_loss: 0.4214 - val_acc: 0.7755\n",
      "Epoch 76/100\n",
      "4s - loss: 0.2728 - acc: 0.8867 - val_loss: 0.4086 - val_acc: 0.7755\n",
      "Epoch 77/100\n",
      "4s - loss: 0.2799 - acc: 0.8867 - val_loss: 0.3835 - val_acc: 0.7959\n",
      "Epoch 78/100\n",
      "4s - loss: 0.2761 - acc: 0.8844 - val_loss: 0.3832 - val_acc: 0.8163\n",
      "Epoch 79/100\n",
      "4s - loss: 0.2682 - acc: 0.9133 - val_loss: 0.3755 - val_acc: 0.8571\n",
      "Epoch 80/100\n",
      "4s - loss: 0.2615 - acc: 0.8844 - val_loss: 0.3948 - val_acc: 0.7959\n",
      "Epoch 81/100\n",
      "4s - loss: 0.2978 - acc: 0.8778 - val_loss: 0.3724 - val_acc: 0.8367\n",
      "Epoch 82/100\n",
      "4s - loss: 0.2758 - acc: 0.8733 - val_loss: 0.4181 - val_acc: 0.7755\n",
      "Epoch 83/100\n",
      "4s - loss: 0.2929 - acc: 0.8978 - val_loss: 0.3993 - val_acc: 0.7755\n",
      "Epoch 84/100\n",
      "4s - loss: 0.2587 - acc: 0.8933 - val_loss: 0.3939 - val_acc: 0.7959\n",
      "Epoch 85/100\n",
      "5s - loss: 0.2751 - acc: 0.8867 - val_loss: 0.3846 - val_acc: 0.8163\n",
      "Epoch 86/100\n",
      "4s - loss: 0.2653 - acc: 0.8911 - val_loss: 0.3786 - val_acc: 0.8571\n",
      "Epoch 87/100\n",
      "4s - loss: 0.2721 - acc: 0.8867 - val_loss: 0.3946 - val_acc: 0.7755\n",
      "Epoch 88/100\n",
      "4s - loss: 0.2713 - acc: 0.8911 - val_loss: 0.4725 - val_acc: 0.7755\n",
      "Epoch 89/100\n",
      "4s - loss: 0.2584 - acc: 0.8911 - val_loss: 0.4492 - val_acc: 0.7755\n",
      "Epoch 90/100\n",
      "4s - loss: 0.2642 - acc: 0.8889 - val_loss: 0.3815 - val_acc: 0.8367\n",
      "Epoch 91/100\n",
      "4s - loss: 0.2444 - acc: 0.9022 - val_loss: 0.3845 - val_acc: 0.8163\n",
      "Epoch 92/100\n",
      "4s - loss: 0.2783 - acc: 0.8800 - val_loss: 0.3935 - val_acc: 0.8163\n",
      "Epoch 93/100\n",
      "4s - loss: 0.2546 - acc: 0.8867 - val_loss: 0.4479 - val_acc: 0.7755\n",
      "Epoch 94/100\n",
      "4s - loss: 0.2680 - acc: 0.8756 - val_loss: 0.3960 - val_acc: 0.8163\n",
      "Epoch 95/100\n",
      "4s - loss: 0.2556 - acc: 0.9022 - val_loss: 0.4733 - val_acc: 0.7755\n",
      "Epoch 96/100\n",
      "4s - loss: 0.2661 - acc: 0.8956 - val_loss: 0.3844 - val_acc: 0.8367\n",
      "Epoch 97/100\n",
      "4s - loss: 0.2732 - acc: 0.8844 - val_loss: 0.3746 - val_acc: 0.8163\n",
      "Epoch 98/100\n",
      "4s - loss: 0.2566 - acc: 0.8822 - val_loss: 0.3879 - val_acc: 0.8163\n",
      "Epoch 99/100\n",
      "4s - loss: 0.2390 - acc: 0.9044 - val_loss: 0.4489 - val_acc: 0.7755\n",
      "Epoch 100/100\n",
      "4s - loss: 0.2477 - acc: 0.9067 - val_loss: 0.4288 - val_acc: 0.7755\n"
     ]
    },
    {
     "data": {
      "image/png": "[encoded data removed]",
      "text/plain": [
       "<matplotlib.figure.Figure at 0x11889ada0>"
      ]
     },
     "metadata": {},
     "output_type": "display_data"
    }
   ],
   "source": [
    "# design network\n",
    "model = Sequential()\n",
    "model.add(LSTM(100, input_shape=(train_X.shape[1], train_X.shape[2]), return_sequences=True))\n",
    "#### appears that two stacked LSTM layers overfit the model\n",
    "model.add(Dropout(0.5))\n",
    "model.add(LSTM(100, input_shape=(train_X.shape[1], train_X.shape[2])))\n",
    "model.add(Dropout(0.5))\n",
    "model.add(Dense(1, activation='sigmoid'))\n",
    "model.compile(loss='binary_crossentropy', optimizer='adam', metrics=['accuracy'])\n",
    "# fit network\n",
    "history = model.fit(train_X, train_y, epochs=100, batch_size=1, validation_data=(test_X, test_y), verbose=2, shuffle=False)\n",
    "# plot history\n",
    "plt.plot(history.history['loss'], label='train')\n",
    "plt.plot(history.history['val_loss'], label='test')\n",
    "plt.legend()\n",
    "plt.show()"
   ]
  },
  {
   "cell_type": "code",
   "execution_count": 9,
   "metadata": {
    "collapsed": false
   },
   "outputs": [
    {
     "data": {
      "image/png": "[encoded data removed]",
      "text/plain": [
       "<matplotlib.figure.Figure at 0x1177d3d68>"
      ]
     },
     "metadata": {},
     "output_type": "display_data"
    }
   ],
   "source": [
    "# summarize history for accuracy\n",
    "plt.plot(history.history['acc'])\n",
    "plt.plot(history.history['val_acc'])\n",
    "plt.title('model accuracy')\n",
    "plt.ylabel('accuracy')\n",
    "plt.xlabel('epoch')\n",
    "plt.legend(['train', 'test'], loc='upper left')\n",
    "plt.show()"
   ]
  },
  {
   "cell_type": "code",
   "execution_count": 10,
   "metadata": {
    "collapsed": false
   },
   "outputs": [
    {
     "name": "stdout",
     "output_type": "stream",
     "text": [
      "Average Accuracy: 80.55%\n",
      "Accuracy Standard Deviation: 3.58%\n"
     ]
    }
   ],
   "source": [
    "import numpy as np\n",
    "# list all data in history\n",
    "#print(history.history['val_acc'])\n",
    "val_acc_array = np.array(history.history['val_acc'])\n",
    "print(\"Average Accuracy: %.2f%%\" % (np.mean(val_acc_array)*100))\n",
    "print(\"Accuracy Standard Deviation: %.2f%%\" % (np.std(val_acc_array)*100))"
   ]
  },
  {
   "cell_type": "code",
   "execution_count": 12,
   "metadata": {
    "collapsed": false
   },
   "outputs": [
    {
     "name": "stdout",
     "output_type": "stream",
     "text": [
      "Accuracy: 77.55%\n"
     ]
    }
   ],
   "source": [
    "# Final evaluation of the model\n",
    "scores = model.evaluate(test_X, test_y, verbose=0)\n",
    "print(\"Accuracy: %.2f%%\" % (scores[1]*100))"
   ]
  },
  {
   "cell_type": "code",
   "execution_count": null,
   "metadata": {
    "collapsed": true
   },
   "outputs": [],
   "source": []
  }
 ],
 "metadata": {
  "kernelspec": {
   "display_name": "Python 3",
   "language": "python",
   "name": "python3"
  },
  "language_info": {
   "codemirror_mode": {
    "name": "ipython",
    "version": 3
   },
   "file_extension": ".py",
   "mimetype": "text/x-python",
   "name": "python",
   "nbconvert_exporter": "python",
   "pygments_lexer": "ipython3",
   "version": "3.4.3"
  }
 },
 "nbformat": 4,
 "nbformat_minor": 0
}
